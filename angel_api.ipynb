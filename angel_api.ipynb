{
 "cells": [
  {
   "cell_type": "code",
   "execution_count": 52,
   "id": "3ac23483",
   "metadata": {},
   "outputs": [],
   "source": [
    "from smartapi import SmartConnect\n",
    "import pandas as pd"
   ]
  },
  {
   "cell_type": "code",
   "execution_count": 53,
   "id": "f521f306",
   "metadata": {},
   "outputs": [],
   "source": [
    "uname = \"\"\n",
    "pwd = \"\"\n",
    "api_key = \"CGz5s9Tv\"\n",
    "secret = \"1c873097-b4f6-4b50-ae5f-5b70341a0347\"\n",
    "tokens_url = \"https://margincalculator.angelbroking.com/OpenAPI_File/files/OpenAPIScripMaster.json\""
   ]
  },
  {
   "cell_type": "code",
   "execution_count": 54,
   "id": "e33724a0",
   "metadata": {},
   "outputs": [],
   "source": [
    "obj = SmartConnect(api_key=api_key)\n",
    "data = obj.generateSession(uname, pwd)\n",
    "refresh_token = data['data']['refreshToken']\n",
    "# feedtoken = obj.getfeedToken()\n",
    "# print(feedtoken)\n",
    "# user_profile = obj.getProfile(refresh_token)\n",
    "# print(user_profile)"
   ]
  },
  {
   "cell_type": "code",
   "execution_count": 57,
   "id": "29b8c817",
   "metadata": {},
   "outputs": [],
   "source": [
    "def get_historic_data(symbol, token, interval, fdate, todate):\n",
    "    try:\n",
    "        params={\n",
    "            \"exchange\": \"NSE\",\n",
    "            \"tradingsymbol\": symbol,\n",
    "            \"symboltoken\": token,\n",
    "            \"interval\": interval,\n",
    "            \"fromdate\": fdate,\n",
    "            \"todate\": todate\n",
    "        }\n",
    "        candle_data = obj.getCandleData(params)['data']\n",
    "        df_candle = pd.DataFrame(candle_data)\n",
    "        \n",
    "        df_candle = df_candle.rename(\n",
    "                    columns = {0: \"Datetime\", 1: \"Open\", 2: \"High\", 3: \"Low\", 4: \"Close\", 5: \"Volume\"}\n",
    "                   )\n",
    "        df_candle['Datetime'] = pd.to_datetime(df_candle['Datetime'])\n",
    "        df_candle = df_candle.set_index('Datetime')\n",
    "        return df_candle\n",
    "    except Exception as e:\n",
    "        print(\"Something went wrong - {}\".format(e))\n",
    "        "
   ]
  },
  {
   "cell_type": "code",
   "execution_count": 62,
   "id": "2db066c7",
   "metadata": {},
   "outputs": [
    {
     "name": "stdout",
     "output_type": "stream",
     "text": [
      "                              Open     High      Low    Close    Volume\n",
      "Datetime                                                               \n",
      "2020-09-11 00:00:00+05:30  2312.00  2337.85  2287.10  2319.75  27445883\n",
      "2020-09-14 00:00:00+05:30  2325.00  2360.00  2282.00  2302.55  20335480\n",
      "2020-09-15 00:00:00+05:30  2311.95  2325.75  2288.15  2318.85  12543161\n",
      "2020-09-16 00:00:00+05:30  2320.00  2369.35  2310.55  2324.55  15669133\n",
      "2020-09-17 00:00:00+05:30  2320.00  2333.70  2291.85  2298.75  11919991\n",
      "...                            ...      ...      ...      ...       ...\n",
      "2021-09-03 00:00:00+05:30  2310.00  2395.00  2302.50  2389.65  14144725\n",
      "2021-09-06 00:00:00+05:30  2413.00  2480.00  2412.00  2425.60  15521182\n",
      "2021-09-07 00:00:00+05:30  2430.00  2458.00  2412.00  2440.90   8005921\n",
      "2021-09-08 00:00:00+05:30  2452.00  2454.00  2406.65  2430.00   6598226\n",
      "2021-09-09 00:00:00+05:30  2427.90  2437.85  2416.10  2424.10   4135335\n",
      "\n",
      "[247 rows x 5 columns]\n"
     ]
    }
   ],
   "source": [
    "daily_data = get_historic_data(\"RELIANCE-EQ\", \"2885\", \"ONE_DAY\", \"2020-09-11 00:00\", \"2021-09-11 23:59\")\n",
    "my_df = pd.DataFrame(daily_data)\n",
    "print(my_df)\n",
    "my_df.to_csv('{}.csv'.format('sample_oneday', mode='w', index=True))\n",
    "        "
   ]
  },
  {
   "cell_type": "code",
   "execution_count": null,
   "id": "e143b675",
   "metadata": {},
   "outputs": [],
   "source": []
  }
 ],
 "metadata": {
  "kernelspec": {
   "display_name": "Python 3 (ipykernel)",
   "language": "python",
   "name": "python3"
  },
  "language_info": {
   "codemirror_mode": {
    "name": "ipython",
    "version": 3
   },
   "file_extension": ".py",
   "mimetype": "text/x-python",
   "name": "python",
   "nbconvert_exporter": "python",
   "pygments_lexer": "ipython3",
   "version": "3.9.6"
  }
 },
 "nbformat": 4,
 "nbformat_minor": 5
}
