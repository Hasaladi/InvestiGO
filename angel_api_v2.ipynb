{
 "cells": [
  {
   "cell_type": "code",
   "execution_count": 18,
   "id": "3ac23483",
   "metadata": {},
   "outputs": [],
   "source": [
    "import pandas as pd\n",
    "import tkinter as tk\n",
    "\n",
    "from datetime import datetime\n",
    "from smartapi import SmartConnect\n",
    "from symbol_selector import UserInterface\n"
   ]
  },
  {
   "cell_type": "code",
   "execution_count": 19,
   "id": "f521f306",
   "metadata": {},
   "outputs": [],
   "source": [
    "uname = \"\"\n",
    "pwd = \"\"\n",
    "api_key = \"CGz5s9Tv\"\n",
    "api_key_feed = \"bgBHbiTo\"\n",
    "secret = \"1c873097-b4f6-4b50-ae5f-5b70341a0347\"\n",
    "tokens_url = \"https://margincalculator.angelbroking.com/OpenAPI_File/files/OpenAPIScripMaster.json\"\n",
    "\n",
    "df_master = pd.read_json(tokens_url)\n",
    "s_map = pd.Series(df_master.name.values,index=df_master.symbol).to_dict()\n",
    "s_concat_list = [\"{}  ||  {}\".format(key, value) for key, value in s_map.items()]\n"
   ]
  },
  {
   "cell_type": "code",
   "execution_count": 20,
   "id": "e33724a0",
   "metadata": {
    "scrolled": true
   },
   "outputs": [],
   "source": [
    "obj = SmartConnect(api_key=api_key)\n",
    "data = obj.generateSession(uname, pwd)\n",
    "refresh_token = data['data']['refreshToken']\n",
    "feedtoken = obj.getfeedToken()\n",
    "user_profile = obj.getProfile(refresh_token)"
   ]
  },
  {
   "cell_type": "code",
   "execution_count": 21,
   "id": "29b8c817",
   "metadata": {},
   "outputs": [],
   "source": [
    "def get_historic_data(exchange, symbol, token, interval, fdate, todate):\n",
    "    try:\n",
    "        params={\n",
    "            \"exchange\": exchange,\n",
    "            \"tradingsymbol\": symbol,\n",
    "            \"symboltoken\": token,\n",
    "            \"interval\": interval,\n",
    "            \"fromdate\": fdate,\n",
    "            \"todate\": todate\n",
    "        }\n",
    "        candle_data = obj.getCandleData(params)['data']\n",
    "        df_candle = pd.DataFrame(candle_data)\n",
    "        \n",
    "        df_candle = df_candle.rename(\n",
    "                    columns = {0: \"Datetime\", 1: \"Open\", 2: \"High\", 3: \"Low\", 4: \"Close\", 5: \"Volume\"}\n",
    "                   )\n",
    "        df_candle['Datetime'] = pd.to_datetime(df_candle['Datetime'])\n",
    "        df_candle = df_candle.set_index('Datetime')\n",
    "        return df_candle\n",
    "    except Exception as e:\n",
    "        print(\"Something went wrong - {}\".format(e))\n",
    "        "
   ]
  },
  {
   "cell_type": "code",
   "execution_count": 22,
   "id": "2db066c7",
   "metadata": {},
   "outputs": [
    {
     "name": "stdout",
     "output_type": "stream",
     "text": [
      "csv file has been created for SBIN-EQ at 2021-09-13_18-44-09\n"
     ]
    }
   ],
   "source": [
    "root = tk.Tk()\n",
    "root.title('Select a Symbol')\n",
    "root.geometry(\"500x400\")\n",
    "ui_obj = UserInterface(root, s_concat_list)\n",
    "root.mainloop()\n",
    "\n",
    "selected_symbol = ui_obj.get_symbol_value().split('  ||  ')[0]\n",
    "ser = df_master.loc[df_master['symbol'] == selected_symbol]\n",
    "selected_token = str(ser['token'].to_list()[0])\n",
    "\n",
    "exchange = 'NSE'\n",
    "timeframe = \"ONE_DAY\"\n",
    "from_date = \"2021-09-01 00:00\"\n",
    "to_date = \"2021-09-08 23:59\"\n",
    "daily_data = get_historic_data(exchange, selected_symbol, selected_token, timeframe, from_date, to_date)\n",
    "result_df = pd.DataFrame(daily_data)\n",
    "# my_df.to_csv('{}.csv'.format('sample_oneday', mode='w', index=True))\n",
    "\n",
    "curr_time = datetime.now()\n",
    "ctime = curr_time.strftime(\"%Y-%m-%d_%H-%M-%S\")\n",
    "result_df.to_csv(\"{}_{}.csv\".format(selected_symbol, ctime))\n",
    "print(\"csv file has been created for {} at {}\".format(selected_symbol, ctime))\n",
    "\n",
    "        "
   ]
  },
  {
   "cell_type": "code",
   "execution_count": null,
   "id": "e143b675",
   "metadata": {},
   "outputs": [],
   "source": []
  }
 ],
 "metadata": {
  "kernelspec": {
   "display_name": "Python 3 (ipykernel)",
   "language": "python",
   "name": "python3"
  },
  "language_info": {
   "codemirror_mode": {
    "name": "ipython",
    "version": 3
   },
   "file_extension": ".py",
   "mimetype": "text/x-python",
   "name": "python",
   "nbconvert_exporter": "python",
   "pygments_lexer": "ipython3",
   "version": "3.9.6"
  }
 },
 "nbformat": 4,
 "nbformat_minor": 5
}
